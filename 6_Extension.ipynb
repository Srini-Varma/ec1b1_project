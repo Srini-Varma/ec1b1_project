{
 "cells": [
  {
   "cell_type": "code",
   "execution_count": 2,
   "metadata": {},
   "outputs": [
    {
     "data": {
      "text/html": [
       "<div>\n",
       "<style scoped>\n",
       "    .dataframe tbody tr th:only-of-type {\n",
       "        vertical-align: middle;\n",
       "    }\n",
       "\n",
       "    .dataframe tbody tr th {\n",
       "        vertical-align: top;\n",
       "    }\n",
       "\n",
       "    .dataframe thead th {\n",
       "        text-align: right;\n",
       "    }\n",
       "</style>\n",
       "<table border=\"1\" class=\"dataframe\">\n",
       "  <thead>\n",
       "    <tr style=\"text-align: right;\">\n",
       "      <th></th>\n",
       "      <th>Country</th>\n",
       "      <th>Month-Year</th>\n",
       "      <th>Economic Activity, Industrial Production, Index</th>\n",
       "      <th>Exchange Rates, National Currency Per U.S. Dollar, Period Average, Rate</th>\n",
       "      <th>International Reserves and Liquidity, Reserves, Official Reserve Assets, US Dollar</th>\n",
       "      <th>Prices, Consumer Price Index, All items, Index</th>\n",
       "    </tr>\n",
       "  </thead>\n",
       "  <tbody>\n",
       "    <tr>\n",
       "      <th>0</th>\n",
       "      <td>Germany</td>\n",
       "      <td>Jan 1989</td>\n",
       "      <td>74.129549</td>\n",
       "      <td>1.8304</td>\n",
       "      <td>62282.520139</td>\n",
       "      <td>64.969124</td>\n",
       "    </tr>\n",
       "    <tr>\n",
       "      <th>1</th>\n",
       "      <td>Germany</td>\n",
       "      <td>Feb 1989</td>\n",
       "      <td>74.762724</td>\n",
       "      <td>1.8521</td>\n",
       "      <td>63127.140877</td>\n",
       "      <td>65.178931</td>\n",
       "    </tr>\n",
       "    <tr>\n",
       "      <th>2</th>\n",
       "      <td>Germany</td>\n",
       "      <td>Mar 1989</td>\n",
       "      <td>81.903975</td>\n",
       "      <td>1.8653</td>\n",
       "      <td>62203.567278</td>\n",
       "      <td>65.248867</td>\n",
       "    </tr>\n",
       "    <tr>\n",
       "      <th>3</th>\n",
       "      <td>Germany</td>\n",
       "      <td>Apr 1989</td>\n",
       "      <td>79.780034</td>\n",
       "      <td>1.8704</td>\n",
       "      <td>63627.844313</td>\n",
       "      <td>65.66847</td>\n",
       "    </tr>\n",
       "    <tr>\n",
       "      <th>4</th>\n",
       "      <td>Germany</td>\n",
       "      <td>May 1989</td>\n",
       "      <td>73.985282</td>\n",
       "      <td>1.9503</td>\n",
       "      <td>62246.09999</td>\n",
       "      <td>65.738406</td>\n",
       "    </tr>\n",
       "    <tr>\n",
       "      <th>...</th>\n",
       "      <td>...</td>\n",
       "      <td>...</td>\n",
       "      <td>...</td>\n",
       "      <td>...</td>\n",
       "      <td>...</td>\n",
       "      <td>...</td>\n",
       "    </tr>\n",
       "    <tr>\n",
       "      <th>139</th>\n",
       "      <td>United Kingdom</td>\n",
       "      <td>Aug 1994</td>\n",
       "      <td>79.844827</td>\n",
       "      <td>0.648255</td>\n",
       "      <td>45486.461093</td>\n",
       "      <td>72.239689</td>\n",
       "    </tr>\n",
       "    <tr>\n",
       "      <th>140</th>\n",
       "      <td>United Kingdom</td>\n",
       "      <td>Sep 1994</td>\n",
       "      <td>87.727301</td>\n",
       "      <td>0.639606</td>\n",
       "      <td>45969.985052</td>\n",
       "      <td>72.350657</td>\n",
       "    </tr>\n",
       "    <tr>\n",
       "      <th>141</th>\n",
       "      <td>United Kingdom</td>\n",
       "      <td>Oct 1994</td>\n",
       "      <td>88.747386</td>\n",
       "      <td>0.622748</td>\n",
       "      <td>47211.908673</td>\n",
       "      <td>72.239689</td>\n",
       "    </tr>\n",
       "    <tr>\n",
       "      <th>142</th>\n",
       "      <td>United Kingdom</td>\n",
       "      <td>Nov 1994</td>\n",
       "      <td>93.2914</td>\n",
       "      <td>0.629213</td>\n",
       "      <td>46155.254015</td>\n",
       "      <td>72.350657</td>\n",
       "    </tr>\n",
       "    <tr>\n",
       "      <th>143</th>\n",
       "      <td>United Kingdom</td>\n",
       "      <td>Dec 1994</td>\n",
       "      <td>85.965336</td>\n",
       "      <td>0.641133</td>\n",
       "      <td>46326.669124</td>\n",
       "      <td>72.683558</td>\n",
       "    </tr>\n",
       "  </tbody>\n",
       "</table>\n",
       "<p>144 rows × 6 columns</p>\n",
       "</div>"
      ],
      "text/plain": [
       "            Country Month-Year  \\\n",
       "0           Germany   Jan 1989   \n",
       "1           Germany   Feb 1989   \n",
       "2           Germany   Mar 1989   \n",
       "3           Germany   Apr 1989   \n",
       "4           Germany   May 1989   \n",
       "..              ...        ...   \n",
       "139  United Kingdom   Aug 1994   \n",
       "140  United Kingdom   Sep 1994   \n",
       "141  United Kingdom   Oct 1994   \n",
       "142  United Kingdom   Nov 1994   \n",
       "143  United Kingdom   Dec 1994   \n",
       "\n",
       "    Economic Activity, Industrial Production, Index  \\\n",
       "0                                         74.129549   \n",
       "1                                         74.762724   \n",
       "2                                         81.903975   \n",
       "3                                         79.780034   \n",
       "4                                         73.985282   \n",
       "..                                              ...   \n",
       "139                                       79.844827   \n",
       "140                                       87.727301   \n",
       "141                                       88.747386   \n",
       "142                                         93.2914   \n",
       "143                                       85.965336   \n",
       "\n",
       "    Exchange Rates, National Currency Per U.S. Dollar, Period Average, Rate  \\\n",
       "0                                               1.8304                        \n",
       "1                                               1.8521                        \n",
       "2                                               1.8653                        \n",
       "3                                               1.8704                        \n",
       "4                                               1.9503                        \n",
       "..                                                 ...                        \n",
       "139                                           0.648255                        \n",
       "140                                           0.639606                        \n",
       "141                                           0.622748                        \n",
       "142                                           0.629213                        \n",
       "143                                           0.641133                        \n",
       "\n",
       "    International Reserves and Liquidity, Reserves, Official Reserve Assets, US Dollar  \\\n",
       "0                                         62282.520139                                   \n",
       "1                                         63127.140877                                   \n",
       "2                                         62203.567278                                   \n",
       "3                                         63627.844313                                   \n",
       "4                                          62246.09999                                   \n",
       "..                                                 ...                                   \n",
       "139                                       45486.461093                                   \n",
       "140                                       45969.985052                                   \n",
       "141                                       47211.908673                                   \n",
       "142                                       46155.254015                                   \n",
       "143                                       46326.669124                                   \n",
       "\n",
       "    Prices, Consumer Price Index, All items, Index  \n",
       "0                                        64.969124  \n",
       "1                                        65.178931  \n",
       "2                                        65.248867  \n",
       "3                                         65.66847  \n",
       "4                                        65.738406  \n",
       "..                                             ...  \n",
       "139                                      72.239689  \n",
       "140                                      72.350657  \n",
       "141                                      72.239689  \n",
       "142                                      72.350657  \n",
       "143                                      72.683558  \n",
       "\n",
       "[144 rows x 6 columns]"
      ]
     },
     "execution_count": 2,
     "metadata": {},
     "output_type": "execute_result"
    }
   ],
   "source": [
    "import os\n",
    "import json\n",
    "import requests\n",
    "import pandas as pd\n",
    "import openpyxl\n",
    "import numpy as np\n",
    "\n",
    "# Read the data\n",
    "s6_monthly_data = pd.read_excel('data/Section6_Monthly_Dataset.xlsx')\n",
    "\n",
    "def reindex(df):\n",
    "    # Set the first row (index 0) as the new header\n",
    "    df.columns = df.iloc[0]  # Use the first row as the header\n",
    "    df = df.drop(0)  # Drop the first row (since it was the header now)\n",
    "    \n",
    "    # Reset index after dropping the row\n",
    "    df.reset_index(drop=True, inplace=True)\n",
    "    \n",
    "    # Name the first 2 columns\n",
    "    df.columns = [f'Country' if i == 0 \n",
    "                  else f'Month-Year' if i == 1\n",
    "                  else col for i, col in enumerate(df.columns)]\n",
    "\n",
    "    return df\n",
    "\n",
    "s6_monthly_df = reindex(s6_monthly_data)\n",
    "\n",
    "s6_monthly_df"
   ]
  },
  {
   "cell_type": "code",
   "execution_count": 3,
   "metadata": {},
   "outputs": [
    {
     "name": "stdout",
     "output_type": "stream",
     "text": [
      "['Country', 'Month-Year', 'Economic Activity, Industrial Production, Index', 'Exchange Rates, National Currency Per U.S. Dollar, Period Average, Rate', 'International Reserves and Liquidity, Reserves, Official Reserve Assets, US Dollar', 'Prices, Consumer Price Index, All items, Index']\n",
      "Date range: Apr 1989 to Sep 1994\n"
     ]
    }
   ],
   "source": [
    "# Examine the monthly data you've imported\n",
    "s6_monthly_df.head()\n",
    "\n",
    "# Check what variables are available\n",
    "print(s6_monthly_df.columns.tolist())\n",
    "\n",
    "# Check the date range\n",
    "print(f\"Date range: {s6_monthly_df['Month-Year'].min()} to {s6_monthly_df['Month-Year'].max()}\")"
   ]
  },
  {
   "cell_type": "markdown",
   "metadata": {},
   "source": [
    "# 6.2 Black Wednesday: The UK Joining & Leaving the ERM"
   ]
  },
  {
   "cell_type": "markdown",
   "metadata": {},
   "source": [
    "## 6.2.1 Gather Data"
   ]
  },
  {
   "cell_type": "markdown",
   "metadata": {},
   "source": [
    "## 6.2.2 Data Preparation"
   ]
  },
  {
   "cell_type": "markdown",
   "metadata": {},
   "source": [
    "- Calculate the DM/£ exchange rate using the dollar rates\n",
    "- Calculate monthly inflation rates for UK and Germany\n",
    "- Calculate inflation differential (UK minus Germany)\n",
    "- Calculate monthly industrial production growth rates\n",
    "- Calculate 12-month industrial production growth rates\n",
    "- Calculate monthly real exchange rate growth"
   ]
  },
  {
   "cell_type": "markdown",
   "metadata": {},
   "source": [
    "## 6.2.3 Analysis: UK Joining ERM"
   ]
  },
  {
   "cell_type": "markdown",
   "metadata": {},
   "source": [
    "- Create graph showing inflation rates for UK and Germany before joining ERM\n",
    "- Create graph showing exchange rate movements leading up to joining\n",
    "- Write brief explanation of why UK joined ERM (supported by your data)"
   ]
  },
  {
   "cell_type": "markdown",
   "metadata": {},
   "source": [
    "## 6.2.4 Analysis: Currency Attack"
   ]
  },
  {
   "cell_type": "markdown",
   "metadata": {},
   "source": [
    "- Create graph showing UK's international reserves before and during attack\n",
    "- Create graph showing DM/£ exchange rate during the crisis period\n",
    "- Analyze what factors led to the speculative attack\n",
    "- Write explanation of Soros's currency attack (supported by your data)"
   ]
  },
  {
   "cell_type": "markdown",
   "metadata": {},
   "source": [
    "## 6.2.5 Volatility Analysis"
   ]
  },
  {
   "cell_type": "markdown",
   "metadata": {},
   "source": [
    "- Define three periods: pre-ERM, during-ERM, post-ERM\n",
    "- Calculate standard deviation of real exchange rate growth for each period\n",
    "- Calculate standard deviation of inflation differential for each period\n",
    "- Calculate standard deviation of industrial production growth for each period\n",
    "- Create comparative chart showing volatility changes across periods\n",
    "- Write analysis of how volatility changed after joining/leaving ERM"
   ]
  },
  {
   "cell_type": "markdown",
   "metadata": {},
   "source": [
    "## 6.2.6 Level Analysis"
   ]
  },
  {
   "cell_type": "markdown",
   "metadata": {},
   "source": [
    "- Calculate average levels of exchange rate before/during/after ERM\n",
    "- Calculate average inflation differentials before/during/after ERM\n",
    "- Calculate average industrial production growth before/during/after ERM\n",
    "- Create graphs showing these level changes\n",
    "- Write analysis of how levels changed after Black Wednesday"
   ]
  },
  {
   "cell_type": "markdown",
   "metadata": {},
   "source": [
    "## 6.2.7 Conclusion"
   ]
  },
  {
   "cell_type": "markdown",
   "metadata": {},
   "source": [
    "- Summarize key findings about exchange rate effects\n",
    "- Discuss limitations of drawing conclusions from this period\n",
    "- Compare Black Wednesday findings with Bretton Woods analysis\n",
    "- State overall implications about exchange rate importance"
   ]
  },
  {
   "cell_type": "markdown",
   "metadata": {},
   "source": []
  }
 ],
 "metadata": {
  "kernelspec": {
   "display_name": "Python 3",
   "language": "python",
   "name": "python3"
  },
  "language_info": {
   "codemirror_mode": {
    "name": "ipython",
    "version": 3
   },
   "file_extension": ".py",
   "mimetype": "text/x-python",
   "name": "python",
   "nbconvert_exporter": "python",
   "pygments_lexer": "ipython3",
   "version": "3.11.8"
  }
 },
 "nbformat": 4,
 "nbformat_minor": 2
}
